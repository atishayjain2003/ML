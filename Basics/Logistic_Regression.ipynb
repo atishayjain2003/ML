{
  "nbformat": 4,
  "nbformat_minor": 0,
  "metadata": {
    "colab": {
      "provenance": [],
      "toc_visible": true,
      "authorship_tag": "ABX9TyOa60fGOXa7AGixk6TtXuMW",
      "include_colab_link": true
    },
    "kernelspec": {
      "name": "python3",
      "display_name": "Python 3"
    },
    "language_info": {
      "name": "python"
    }
  },
  "cells": [
    {
      "cell_type": "markdown",
      "metadata": {
        "id": "view-in-github",
        "colab_type": "text"
      },
      "source": [
        "<a href=\"https://colab.research.google.com/github/atishayjain2003/ML/blob/main/Basics/Logistic_Regression.ipynb\" target=\"_parent\"><img src=\"https://colab.research.google.com/assets/colab-badge.svg\" alt=\"Open In Colab\"/></a>"
      ]
    },
    {
      "cell_type": "code",
      "execution_count": null,
      "metadata": {
        "id": "S6jany4WM3Af"
      },
      "outputs": [],
      "source": [
        "!git config --global user.name \"atishayjain2003\"\n",
        "!git config --global user.email \"atishayjain2003@gmail.com\"\n",
        "!git config --global user.password \"Atishay123456#\"\n"
      ]
    },
    {
      "cell_type": "code",
      "source": [
        "!git clone https://github.com/atishayjain2003/MACHINE-LEARNING.git"
      ],
      "metadata": {
        "colab": {
          "base_uri": "https://localhost:8080/"
        },
        "id": "KFNrWSDSOTDR",
        "outputId": "bc80a8a4-ca1c-41d8-911b-2333eceed742"
      },
      "execution_count": null,
      "outputs": [
        {
          "output_type": "stream",
          "name": "stdout",
          "text": [
            "Cloning into 'MACHINE-LEARNING'...\n",
            "warning: You appear to have cloned an empty repository.\n"
          ]
        }
      ]
    },
    {
      "cell_type": "markdown",
      "source": [
        "# New Section"
      ],
      "metadata": {
        "id": "bP9rTk8dOstk"
      }
    },
    {
      "cell_type": "code",
      "source": [
        "\n",
        "\n",
        "%cd MACHINE-LEARNING"
      ],
      "metadata": {
        "colab": {
          "base_uri": "https://localhost:8080/"
        },
        "id": "qst_FMaCOxpE",
        "outputId": "1608d2ff-afe3-4916-8888-fb278b08c8e6"
      },
      "execution_count": null,
      "outputs": [
        {
          "output_type": "stream",
          "name": "stdout",
          "text": [
            "/content/MACHINE-LEARNING\n"
          ]
        }
      ]
    },
    {
      "cell_type": "markdown",
      "source": [
        "# New Section"
      ],
      "metadata": {
        "id": "Z0-fVe-oPMV6"
      }
    },
    {
      "cell_type": "markdown",
      "source": [
        "# New Section"
      ],
      "metadata": {
        "id": "MqZfaI-ZPNZW"
      }
    },
    {
      "cell_type": "code",
      "source": [
        "print(\"This is the first commit from collab\")\n"
      ],
      "metadata": {
        "colab": {
          "base_uri": "https://localhost:8080/"
        },
        "id": "JhPga7DUO57X",
        "outputId": "097286bc-c979-479c-aa71-b9e12c9eb000"
      },
      "execution_count": null,
      "outputs": [
        {
          "output_type": "stream",
          "name": "stdout",
          "text": [
            "This is the first commit from collab\n"
          ]
        }
      ]
    }
  ]
}